{
 "cells": [
  {
   "cell_type": "code",
   "execution_count": 19,
   "metadata": {},
   "outputs": [],
   "source": [
    "import numpy as np\n",
    "import matplotlib.pyplot as plt\n",
    "import pandas as pd\n",
    "import math\n",
    "import seaborn as sns\n",
    "import networkx as nx\n",
    "from networkx.algorithms import bipartite\n",
    "from sklearn import datasets, linear_model, metrics \n",
    "from sklearn.model_selection import train_test_split\n",
    "from geopy.geocoders import Nominatim\n",
    "from geopy.distance import geodesic\n",
    "geolocator = Nominatim(user_agent=\"my-application\")\n",
    "import statsmodels.api as sm"
   ]
  },
  {
   "cell_type": "code",
   "execution_count": 3,
   "metadata": {},
   "outputs": [],
   "source": [
    "data=pd.read_csv('SCI data/SCI Data/County_country.csv')\n",
    "arr=data.values"
   ]
  },
  {
   "cell_type": "code",
   "execution_count": 4,
   "metadata": {},
   "outputs": [],
   "source": [
    "caunt=set(list(arr[:,7]))\n",
    "state=set(list(arr[:,6]))\n",
    "cuntr=set(list(arr[:,1]))"
   ]
  },
  {
   "cell_type": "code",
   "execution_count": 5,
   "metadata": {},
   "outputs": [],
   "source": [
    "data=pd.read_csv('SCI data/database/country codes.csv')    \n",
    "cn=data.values\n",
    "cn[156][0]='NA'\n",
    "\n",
    "cullD={i[0]:[i[1], i[2]] for i in cn}                    ###### Country Dict with lat long\n",
    "cullD.update({'SS':[6.8770, 31.3070]})"
   ]
  },
  {
   "cell_type": "code",
   "execution_count": 6,
   "metadata": {},
   "outputs": [],
   "source": [
    "dat=pd.read_csv('SCI data/database/US-cities.geo.csv')\n",
    "ca=np.asarray(dat)\n",
    "\n",
    "                 \n",
    "\n",
    "callD={x[1]: [float(x[2]), float(x[3])] for x in ca}     ###### State Dict with lat long"
   ]
  },
  {
   "cell_type": "code",
   "execution_count": 7,
   "metadata": {},
   "outputs": [],
   "source": [
    "dat=pd.read_csv('SCI data/database/population-figures-by-country.csv')\n",
    "ca=np.asarray(dat)\n",
    "\n",
    "cupoD={x[1]: (x[-1]) for x in ca}     \n",
    "cupoD.update({'RKS':1830000})\n",
    "cupoD.update({'TWN':23800000})\n",
    "cupoD.update({'ERI':44700000})"
   ]
  },
  {
   "cell_type": "code",
   "execution_count": 8,
   "metadata": {},
   "outputs": [],
   "source": [
    "dat=pd.read_csv('SCI data/database/countries_codes_and_coordinates.csv')\n",
    "ca=np.asarray(dat)\n",
    "\n",
    "cu2t3D={x[1][2:4]: x[2][2:5] for x in ca}  \n",
    "cu2t3D.update({'SS': 'SSD'}) \n",
    "cu2t3D.update({'XK':'RKS'})"
   ]
  },
  {
   "cell_type": "code",
   "execution_count": 9,
   "metadata": {},
   "outputs": [],
   "source": [
    "p12=[]\n",
    "for row in arr:\n",
    "\n",
    "    try:\n",
    "        p12.append(row[2]/row[3])\n",
    "    except ZeroDivisionError:\n",
    "        p12.append(0)"
   ]
  },
  {
   "cell_type": "code",
   "execution_count": 45,
   "metadata": {},
   "outputs": [],
   "source": [
    "cofD={}\n",
    "ee=[]\n",
    "for st in state:\n",
    "    X=[]\n",
    "    Y=[]\n",
    "    for i in range (len(p12)):\n",
    "        if arr[i,6]==st:\n",
    "            \n",
    "            try:\n",
    "                if int(arr[i,3])!=0:\n",
    "                    if p12!=0:\n",
    "\n",
    "                        d=geodesic(cullD[arr[i,1]], callD[arr[i,6]]).miles\n",
    "\n",
    "                        p1=cupoD[cu2t3D[arr[i,1]]]\n",
    "                        p2=p12[i]*1000000/p1\n",
    "\n",
    "                        X.append([math.log(p1), math.log(p2), math.log(d)])\n",
    "                        Y.append(math.log(arr[i,3]))\n",
    "                        \n",
    "                        if np.isnan(sum(list([math.log(p1), math.log(p2), math.log(d)]))):\n",
    "                            print(arr[i,1])\n",
    "\n",
    "            except:\n",
    "                ee.append(arr[i,1])\n",
    "    X=np.array(X)\n",
    "    \n",
    "    re=sm.OLS(Y, X).fit()\n",
    "    cofD.update({st:(re.params, re.rsquared)})\n",
    "\n",
    "    #print(X.shape)"
   ]
  },
  {
   "cell_type": "code",
   "execution_count": 12,
   "metadata": {},
   "outputs": [],
   "source": [
    "def regg(X, y):\n",
    "\n",
    "    # splitting X and y into training and testing sets \n",
    "    X_train, X_test, y_train, y_test = train_test_split(X, Y, test_size=0.4,random_state=1) \n",
    "\n",
    "    # create linear regression object \n",
    "    reg = linear_model.LinearRegression() \n",
    "\n",
    "    # train the model using the training sets \n",
    "    reg.fit(X_train, y_train) \n",
    "\n",
    "    # regression coefficients \n",
    "    return  reg.coef_\n",
    "\n",
    "    # variance score: 1 means perfect prediction \n",
    "#    print('Variance score: {}'.format(reg.score(X_test, y_test))) \n",
    "#r2_score(ytest,preds)\n",
    "    # plot for residual error \n",
    "\n",
    "    # ## setting plot style \n",
    "    # plt.style.use('fivethirtyeight') \n",
    "\n",
    "    # ## plotting residual errors in training data \n",
    "    # plt.scatter(reg.predict(X_train), reg.predict(X_train) - y_train,color = \"green\", s = 10, label = 'Train data') \n",
    "\n",
    "    # ## plotting residual errors in test data \n",
    "    # plt.scatter(reg.predict(X_test), reg.predict(X_test) - y_test, color = \"blue\", s = 10, label = 'Test data') \n",
    "\n",
    "    # ## plotting line for zero residual error \n",
    "    # plt.hlines(y = 0, xmin = 0, xmax = 50, linewidth = 2) \n",
    "\n",
    "    # ## plotting legend \n",
    "    # plt.legend(loc = 'upper right') \n",
    "\n",
    "# ## plot title \n",
    "# plt.title(\"Residual errors\") \n",
    "\n",
    "# ## function to show plot \n",
    "# plt.show() "
   ]
  },
  {
   "cell_type": "code",
   "execution_count": 50,
   "metadata": {},
   "outputs": [
    {
     "data": {
      "text/plain": [
       "51"
      ]
     },
     "execution_count": 50,
     "metadata": {},
     "output_type": "execute_result"
    }
   ],
   "source": [
    "len(cofD)"
   ]
  },
  {
   "cell_type": "code",
   "execution_count": 49,
   "metadata": {},
   "outputs": [],
   "source": [
    "import csv\n",
    "with open('dict.csv', 'w') as csv_file:\n",
    "    writer = csv.writer(csv_file)\n",
    "    for key, value in cofD.items():\n",
    "        writer.writerow([key, value])\n"
   ]
  },
  {
   "cell_type": "code",
   "execution_count": null,
   "metadata": {},
   "outputs": [],
   "source": [
    "ind=[]\n",
    "aa=np.zeros((51,4))\n",
    "\n"
   ]
  }
 ],
 "metadata": {
  "kernelspec": {
   "display_name": "Python 3",
   "language": "python",
   "name": "python3"
  }
 },
 "nbformat": 4,
 "nbformat_minor": 2
}
